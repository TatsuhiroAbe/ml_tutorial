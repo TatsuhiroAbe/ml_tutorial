{
 "cells": [
  {
   "cell_type": "code",
   "execution_count": 27,
   "metadata": {},
   "outputs": [],
   "source": [
    "import numpy as np\n",
    "import pandas as pd\n",
    "from sklearn.model_selection import train_test_split\n",
    "from sklearn.preprocessing import LabelEncoder"
   ]
  },
  {
   "cell_type": "code",
   "execution_count": 28,
   "metadata": {},
   "outputs": [],
   "source": [
    "train_df = pd.read_csv('train.csv')\n",
    "test_df = pd.read_csv('test.csv')"
   ]
  },
  {
   "cell_type": "code",
   "execution_count": 29,
   "metadata": {},
   "outputs": [],
   "source": [
    "all_df = pd.concat((train_df.loc[:, 'Pclass':'Embarked'], test_df.loc[:, 'Pclass':'Embarked']))"
   ]
  },
  {
   "cell_type": "code",
   "execution_count": 30,
   "metadata": {},
   "outputs": [
    {
     "name": "stdout",
     "output_type": "stream",
     "text": [
      "<class 'pandas.core.frame.DataFrame'>\n",
      "Int64Index: 1309 entries, 0 to 417\n",
      "Data columns (total 10 columns):\n",
      "Pclass      1309 non-null int64\n",
      "Name        1309 non-null object\n",
      "Sex         1309 non-null object\n",
      "Age         1046 non-null float64\n",
      "SibSp       1309 non-null int64\n",
      "Parch       1309 non-null int64\n",
      "Ticket      1309 non-null object\n",
      "Fare        1308 non-null float64\n",
      "Cabin       295 non-null object\n",
      "Embarked    1307 non-null object\n",
      "dtypes: float64(2), int64(3), object(5)\n",
      "memory usage: 112.5+ KB\n"
     ]
    }
   ],
   "source": [
    "all_df.info()"
   ]
  },
  {
   "cell_type": "code",
   "execution_count": 31,
   "metadata": {},
   "outputs": [],
   "source": [
    "all_df['Age'] = all_df['Age'].fillna(all_df['Age'].mean())\n",
    "all_df['Fare'] = all_df['Fare'].fillna(all_df['Fare'].mean())\n",
    "all_df['Embarked'] = all_df['Embarked'].fillna(all_df['Embarked'].mode()[0])"
   ]
  },
  {
   "cell_type": "code",
   "execution_count": 32,
   "metadata": {},
   "outputs": [
    {
     "name": "stdout",
     "output_type": "stream",
     "text": [
      "<class 'pandas.core.frame.DataFrame'>\n",
      "Int64Index: 1309 entries, 0 to 417\n",
      "Data columns (total 10 columns):\n",
      "Pclass      1309 non-null int64\n",
      "Name        1309 non-null object\n",
      "Sex         1309 non-null object\n",
      "Age         1309 non-null float64\n",
      "SibSp       1309 non-null int64\n",
      "Parch       1309 non-null int64\n",
      "Ticket      1309 non-null object\n",
      "Fare        1309 non-null float64\n",
      "Cabin       295 non-null object\n",
      "Embarked    1309 non-null object\n",
      "dtypes: float64(2), int64(3), object(5)\n",
      "memory usage: 112.5+ KB\n"
     ]
    }
   ],
   "source": [
    "all_df.info()"
   ]
  },
  {
   "cell_type": "code",
   "execution_count": 33,
   "metadata": {},
   "outputs": [
    {
     "data": {
      "text/html": [
       "<div>\n",
       "<style scoped>\n",
       "    .dataframe tbody tr th:only-of-type {\n",
       "        vertical-align: middle;\n",
       "    }\n",
       "\n",
       "    .dataframe tbody tr th {\n",
       "        vertical-align: top;\n",
       "    }\n",
       "\n",
       "    .dataframe thead th {\n",
       "        text-align: right;\n",
       "    }\n",
       "</style>\n",
       "<table border=\"1\" class=\"dataframe\">\n",
       "  <thead>\n",
       "    <tr style=\"text-align: right;\">\n",
       "      <th></th>\n",
       "      <th>Pclass</th>\n",
       "      <th>Name</th>\n",
       "      <th>Sex</th>\n",
       "      <th>Age</th>\n",
       "      <th>SibSp</th>\n",
       "      <th>Parch</th>\n",
       "      <th>Ticket</th>\n",
       "      <th>Fare</th>\n",
       "      <th>Cabin</th>\n",
       "      <th>Embarked</th>\n",
       "    </tr>\n",
       "  </thead>\n",
       "  <tbody>\n",
       "    <tr>\n",
       "      <th>0</th>\n",
       "      <td>3</td>\n",
       "      <td>Braund, Mr. Owen Harris</td>\n",
       "      <td>male</td>\n",
       "      <td>22.0</td>\n",
       "      <td>1</td>\n",
       "      <td>0</td>\n",
       "      <td>A/5 21171</td>\n",
       "      <td>7.2500</td>\n",
       "      <td>NaN</td>\n",
       "      <td>S</td>\n",
       "    </tr>\n",
       "    <tr>\n",
       "      <th>1</th>\n",
       "      <td>1</td>\n",
       "      <td>Cumings, Mrs. John Bradley (Florence Briggs Th...</td>\n",
       "      <td>female</td>\n",
       "      <td>38.0</td>\n",
       "      <td>1</td>\n",
       "      <td>0</td>\n",
       "      <td>PC 17599</td>\n",
       "      <td>71.2833</td>\n",
       "      <td>C85</td>\n",
       "      <td>C</td>\n",
       "    </tr>\n",
       "    <tr>\n",
       "      <th>2</th>\n",
       "      <td>3</td>\n",
       "      <td>Heikkinen, Miss. Laina</td>\n",
       "      <td>female</td>\n",
       "      <td>26.0</td>\n",
       "      <td>0</td>\n",
       "      <td>0</td>\n",
       "      <td>STON/O2. 3101282</td>\n",
       "      <td>7.9250</td>\n",
       "      <td>NaN</td>\n",
       "      <td>S</td>\n",
       "    </tr>\n",
       "    <tr>\n",
       "      <th>3</th>\n",
       "      <td>1</td>\n",
       "      <td>Futrelle, Mrs. Jacques Heath (Lily May Peel)</td>\n",
       "      <td>female</td>\n",
       "      <td>35.0</td>\n",
       "      <td>1</td>\n",
       "      <td>0</td>\n",
       "      <td>113803</td>\n",
       "      <td>53.1000</td>\n",
       "      <td>C123</td>\n",
       "      <td>S</td>\n",
       "    </tr>\n",
       "    <tr>\n",
       "      <th>4</th>\n",
       "      <td>3</td>\n",
       "      <td>Allen, Mr. William Henry</td>\n",
       "      <td>male</td>\n",
       "      <td>35.0</td>\n",
       "      <td>0</td>\n",
       "      <td>0</td>\n",
       "      <td>373450</td>\n",
       "      <td>8.0500</td>\n",
       "      <td>NaN</td>\n",
       "      <td>S</td>\n",
       "    </tr>\n",
       "  </tbody>\n",
       "</table>\n",
       "</div>"
      ],
      "text/plain": [
       "   Pclass                                               Name     Sex   Age  \\\n",
       "0       3                            Braund, Mr. Owen Harris    male  22.0   \n",
       "1       1  Cumings, Mrs. John Bradley (Florence Briggs Th...  female  38.0   \n",
       "2       3                             Heikkinen, Miss. Laina  female  26.0   \n",
       "3       1       Futrelle, Mrs. Jacques Heath (Lily May Peel)  female  35.0   \n",
       "4       3                           Allen, Mr. William Henry    male  35.0   \n",
       "\n",
       "   SibSp  Parch            Ticket     Fare Cabin Embarked  \n",
       "0      1      0         A/5 21171   7.2500   NaN        S  \n",
       "1      1      0          PC 17599  71.2833   C85        C  \n",
       "2      0      0  STON/O2. 3101282   7.9250   NaN        S  \n",
       "3      1      0            113803  53.1000  C123        S  \n",
       "4      0      0            373450   8.0500   NaN        S  "
      ]
     },
     "execution_count": 33,
     "metadata": {},
     "output_type": "execute_result"
    }
   ],
   "source": [
    "all_df.head()"
   ]
  },
  {
   "cell_type": "code",
   "execution_count": 34,
   "metadata": {},
   "outputs": [],
   "source": [
    "cat_features = ['Sex', 'Embarked']\n",
    "\n",
    "for col in cat_features:\n",
    "    lbl = LabelEncoder()\n",
    "    all_df[col] = lbl.fit_transform(list(all_df[col].values))"
   ]
  },
  {
   "cell_type": "code",
   "execution_count": 35,
   "metadata": {},
   "outputs": [
    {
     "data": {
      "text/html": [
       "<div>\n",
       "<style scoped>\n",
       "    .dataframe tbody tr th:only-of-type {\n",
       "        vertical-align: middle;\n",
       "    }\n",
       "\n",
       "    .dataframe tbody tr th {\n",
       "        vertical-align: top;\n",
       "    }\n",
       "\n",
       "    .dataframe thead th {\n",
       "        text-align: right;\n",
       "    }\n",
       "</style>\n",
       "<table border=\"1\" class=\"dataframe\">\n",
       "  <thead>\n",
       "    <tr style=\"text-align: right;\">\n",
       "      <th></th>\n",
       "      <th>Pclass</th>\n",
       "      <th>Name</th>\n",
       "      <th>Sex</th>\n",
       "      <th>Age</th>\n",
       "      <th>SibSp</th>\n",
       "      <th>Parch</th>\n",
       "      <th>Ticket</th>\n",
       "      <th>Fare</th>\n",
       "      <th>Cabin</th>\n",
       "      <th>Embarked</th>\n",
       "    </tr>\n",
       "  </thead>\n",
       "  <tbody>\n",
       "    <tr>\n",
       "      <th>0</th>\n",
       "      <td>3</td>\n",
       "      <td>Braund, Mr. Owen Harris</td>\n",
       "      <td>1</td>\n",
       "      <td>22.0</td>\n",
       "      <td>1</td>\n",
       "      <td>0</td>\n",
       "      <td>A/5 21171</td>\n",
       "      <td>7.2500</td>\n",
       "      <td>NaN</td>\n",
       "      <td>2</td>\n",
       "    </tr>\n",
       "    <tr>\n",
       "      <th>1</th>\n",
       "      <td>1</td>\n",
       "      <td>Cumings, Mrs. John Bradley (Florence Briggs Th...</td>\n",
       "      <td>0</td>\n",
       "      <td>38.0</td>\n",
       "      <td>1</td>\n",
       "      <td>0</td>\n",
       "      <td>PC 17599</td>\n",
       "      <td>71.2833</td>\n",
       "      <td>C85</td>\n",
       "      <td>0</td>\n",
       "    </tr>\n",
       "    <tr>\n",
       "      <th>2</th>\n",
       "      <td>3</td>\n",
       "      <td>Heikkinen, Miss. Laina</td>\n",
       "      <td>0</td>\n",
       "      <td>26.0</td>\n",
       "      <td>0</td>\n",
       "      <td>0</td>\n",
       "      <td>STON/O2. 3101282</td>\n",
       "      <td>7.9250</td>\n",
       "      <td>NaN</td>\n",
       "      <td>2</td>\n",
       "    </tr>\n",
       "    <tr>\n",
       "      <th>3</th>\n",
       "      <td>1</td>\n",
       "      <td>Futrelle, Mrs. Jacques Heath (Lily May Peel)</td>\n",
       "      <td>0</td>\n",
       "      <td>35.0</td>\n",
       "      <td>1</td>\n",
       "      <td>0</td>\n",
       "      <td>113803</td>\n",
       "      <td>53.1000</td>\n",
       "      <td>C123</td>\n",
       "      <td>2</td>\n",
       "    </tr>\n",
       "    <tr>\n",
       "      <th>4</th>\n",
       "      <td>3</td>\n",
       "      <td>Allen, Mr. William Henry</td>\n",
       "      <td>1</td>\n",
       "      <td>35.0</td>\n",
       "      <td>0</td>\n",
       "      <td>0</td>\n",
       "      <td>373450</td>\n",
       "      <td>8.0500</td>\n",
       "      <td>NaN</td>\n",
       "      <td>2</td>\n",
       "    </tr>\n",
       "  </tbody>\n",
       "</table>\n",
       "</div>"
      ],
      "text/plain": [
       "   Pclass                                               Name  Sex   Age  \\\n",
       "0       3                            Braund, Mr. Owen Harris    1  22.0   \n",
       "1       1  Cumings, Mrs. John Bradley (Florence Briggs Th...    0  38.0   \n",
       "2       3                             Heikkinen, Miss. Laina    0  26.0   \n",
       "3       1       Futrelle, Mrs. Jacques Heath (Lily May Peel)    0  35.0   \n",
       "4       3                           Allen, Mr. William Henry    1  35.0   \n",
       "\n",
       "   SibSp  Parch            Ticket     Fare Cabin  Embarked  \n",
       "0      1      0         A/5 21171   7.2500   NaN         2  \n",
       "1      1      0          PC 17599  71.2833   C85         0  \n",
       "2      0      0  STON/O2. 3101282   7.9250   NaN         2  \n",
       "3      1      0            113803  53.1000  C123         2  \n",
       "4      0      0            373450   8.0500   NaN         2  "
      ]
     },
     "execution_count": 35,
     "metadata": {},
     "output_type": "execute_result"
    }
   ],
   "source": [
    "all_df.head()"
   ]
  },
  {
   "cell_type": "code",
   "execution_count": 36,
   "metadata": {},
   "outputs": [],
   "source": [
    "all_df = all_df.drop(columns=['Name', 'Ticket', 'Cabin'])"
   ]
  },
  {
   "cell_type": "code",
   "execution_count": 37,
   "metadata": {},
   "outputs": [],
   "source": [
    "train = all_df[:train_df.shape[0]]\n",
    "test = all_df[train_df.shape[0]:]"
   ]
  },
  {
   "cell_type": "code",
   "execution_count": 40,
   "metadata": {},
   "outputs": [
    {
     "name": "stdout",
     "output_type": "stream",
     "text": [
      "<class 'pandas.core.frame.DataFrame'>\n",
      "Int64Index: 891 entries, 0 to 890\n",
      "Data columns (total 7 columns):\n",
      "Pclass      891 non-null int64\n",
      "Sex         891 non-null int64\n",
      "Age         891 non-null float64\n",
      "SibSp       891 non-null int64\n",
      "Parch       891 non-null int64\n",
      "Fare        891 non-null float64\n",
      "Embarked    891 non-null int64\n",
      "dtypes: float64(2), int64(5)\n",
      "memory usage: 55.7 KB\n"
     ]
    }
   ],
   "source": [
    "train.info()"
   ]
  },
  {
   "cell_type": "code",
   "execution_count": 41,
   "metadata": {},
   "outputs": [],
   "source": [
    "y = train_df['Survived']\n",
    "ID = test_df['PassengerId']"
   ]
  },
  {
   "cell_type": "code",
   "execution_count": 43,
   "metadata": {},
   "outputs": [],
   "source": [
    "X_train, X_test, y_train, y_test = train_test_split(train, y, random_state=0)"
   ]
  },
  {
   "cell_type": "code",
   "execution_count": 46,
   "metadata": {},
   "outputs": [],
   "source": [
    "import xgboost as xgb"
   ]
  },
  {
   "cell_type": "code",
   "execution_count": 51,
   "metadata": {},
   "outputs": [
    {
     "name": "stdout",
     "output_type": "stream",
     "text": [
      "[0]\ttest-auc:0.886905\n",
      "Will train until test-auc hasn't improved in 10 rounds.\n",
      "[1]\ttest-auc:0.89624\n",
      "[2]\ttest-auc:0.893243\n",
      "[3]\ttest-auc:0.889603\n",
      "[4]\ttest-auc:0.892857\n",
      "[5]\ttest-auc:0.886005\n",
      "[6]\ttest-auc:0.890673\n",
      "[7]\ttest-auc:0.894741\n",
      "[8]\ttest-auc:0.889603\n",
      "[9]\ttest-auc:0.888832\n",
      "[10]\ttest-auc:0.889431\n",
      "[11]\ttest-auc:0.89153\n",
      "Stopping. Best iteration:\n",
      "[1]\ttest-auc:0.89624\n",
      "\n"
     ]
    }
   ],
   "source": [
    "params = {\n",
    "    \"objective\": \"binary:logistic\", \n",
    "    \"eval_metric\": \"auc\",\n",
    "    \"eta\": 0.1, \n",
    "    \"max_depth\": 6,  \n",
    "    \"subsample\": 1, \n",
    "    \"colsample_bytree\": 1,\n",
    "    \"silent\": 1\n",
    "}\n",
    "\n",
    "dtrain = xgb.DMatrix(X_train, label=y_train)\n",
    "dtest = xgb.DMatrix(X_test, label=y_test)\n",
    "\n",
    "model = xgb.train(params=params, \n",
    "                  dtrain=dtrain,\n",
    "                  num_boost_round=100,\n",
    "                  early_stopping_rounds=10,\n",
    "                  evals=[(dtest, 'test')]\n",
    "                 )"
   ]
  },
  {
   "cell_type": "code",
   "execution_count": 54,
   "metadata": {
    "scrolled": true
   },
   "outputs": [
    {
     "data": {
      "text/plain": [
       "array([0.42588335, 0.4750208 , 0.42588335, 0.42588335, 0.5168644 ,\n",
       "       0.42588335, 0.45609358, 0.46160665, 0.56230706, 0.42588335,\n",
       "       0.42588335, 0.44456193, 0.5809824 , 0.42588335, 0.5809824 ,\n",
       "       0.5809824 , 0.42588335, 0.43935266, 0.5168644 , 0.45609358,\n",
       "       0.44066563, 0.56824934, 0.5809824 , 0.47461712, 0.5809824 ,\n",
       "       0.42588335, 0.5809824 , 0.43935266, 0.44603732, 0.52094805,\n",
       "       0.42588335, 0.46160665, 0.5       , 0.44124418, 0.4927498 ,\n",
       "       0.43935266, 0.5168644 , 0.5168644 , 0.42588335, 0.4737735 ,\n",
       "       0.43935266, 0.5063673 , 0.42588335, 0.5809824 , 0.5809824 ,\n",
       "       0.42588335, 0.44603732, 0.42588335, 0.5809824 , 0.48098934,\n",
       "       0.47461712, 0.43935266, 0.5809824 , 0.5809824 , 0.52094805,\n",
       "       0.43798986, 0.42588335, 0.42588335, 0.42588335, 0.5809824 ,\n",
       "       0.42588335, 0.42588335, 0.42588335, 0.56230706, 0.56824934,\n",
       "       0.5809824 , 0.56230706, 0.44603732, 0.44603732, 0.5809824 ,\n",
       "       0.56230706, 0.42588335, 0.5168644 , 0.44603732, 0.5809824 ,\n",
       "       0.45490682, 0.42588335, 0.5809824 , 0.42588335, 0.56230706,\n",
       "       0.56824934, 0.44066563, 0.4808205 , 0.42588335, 0.42588335,\n",
       "       0.43935266, 0.56230706, 0.5168644 , 0.56230706, 0.56824934,\n",
       "       0.5168644 , 0.42588335, 0.5809824 , 0.42588335, 0.51640904,\n",
       "       0.42588335, 0.5809824 , 0.42588335, 0.5168644 , 0.42588335,\n",
       "       0.5809824 , 0.42588335, 0.42588335, 0.42588335, 0.52877843,\n",
       "       0.42588335, 0.42588335, 0.42588335, 0.42588335, 0.42588335,\n",
       "       0.43935266, 0.56230706, 0.5809824 , 0.56230706, 0.5809824 ,\n",
       "       0.43935266, 0.43935266, 0.5168644 , 0.45490682, 0.5809824 ,\n",
       "       0.5809824 , 0.42588335, 0.5809824 , 0.42588335, 0.42588335,\n",
       "       0.5168644 , 0.42588335, 0.52877843, 0.42588335, 0.42588335,\n",
       "       0.42588335, 0.43185383, 0.44124418, 0.43935266, 0.42588335,\n",
       "       0.42588335, 0.43935266, 0.42588335, 0.5168644 , 0.42734438,\n",
       "       0.44124418, 0.5809824 , 0.44066563, 0.42588335, 0.5063673 ,\n",
       "       0.42588335, 0.44603732, 0.42588335, 0.5063673 , 0.42588335,\n",
       "       0.5809824 , 0.43935266, 0.42734438, 0.48098934, 0.43798986,\n",
       "       0.42588335, 0.5809824 , 0.5168644 , 0.5063673 , 0.5168644 ,\n",
       "       0.56230706, 0.56824934, 0.5809824 , 0.42588335, 0.42588335,\n",
       "       0.46762788, 0.4823117 , 0.46160665, 0.5809824 , 0.5168644 ,\n",
       "       0.42588335, 0.43935266, 0.42588335, 0.43935266, 0.42734438,\n",
       "       0.5809824 , 0.5809824 , 0.47836354, 0.5809824 , 0.5809824 ,\n",
       "       0.42588335, 0.45490682, 0.5809824 , 0.42588335, 0.5809824 ,\n",
       "       0.42588335, 0.5809824 , 0.42588335, 0.44124418, 0.42588335,\n",
       "       0.42588335, 0.44456193, 0.56824934, 0.42588335, 0.56824934,\n",
       "       0.42588335, 0.56824934, 0.5168644 , 0.42588335, 0.5168644 ,\n",
       "       0.52877843, 0.56824934, 0.45490682, 0.5809824 , 0.42588335,\n",
       "       0.49660358, 0.45609358, 0.42588335, 0.5809824 , 0.42588335,\n",
       "       0.42588335, 0.42588335, 0.43613485, 0.5809824 , 0.4750208 ,\n",
       "       0.44603732, 0.56230706, 0.44066563, 0.5809824 , 0.42588335,\n",
       "       0.5809824 , 0.42588335, 0.5809824 , 0.42588335, 0.5809824 ,\n",
       "       0.52877843, 0.42588335, 0.56230706, 0.42588335, 0.42588335,\n",
       "       0.43613485, 0.5809824 , 0.42588335, 0.42588335, 0.45490682,\n",
       "       0.42588335, 0.44066563, 0.43935266, 0.5809824 , 0.5809824 ,\n",
       "       0.5809824 , 0.5809824 , 0.45490682, 0.42588335, 0.42588335,\n",
       "       0.44603732, 0.5809824 , 0.42734438, 0.5809824 , 0.52877843,\n",
       "       0.5510006 , 0.42588335, 0.47461712, 0.42588335, 0.42588335,\n",
       "       0.42588335, 0.42588335, 0.42588335, 0.5809824 , 0.42588335,\n",
       "       0.42588335, 0.42588335, 0.5809824 , 0.5168644 , 0.43935266,\n",
       "       0.42588335, 0.44456193, 0.42588335, 0.5168644 , 0.42588335,\n",
       "       0.45490682, 0.42588335, 0.5809824 , 0.52877843, 0.43935266,\n",
       "       0.5809824 , 0.42588335, 0.42588335, 0.42588335, 0.42588335,\n",
       "       0.5168644 , 0.56824934, 0.56230706, 0.52877843, 0.46762788,\n",
       "       0.42588335, 0.42588335, 0.47461712, 0.43935266, 0.42588335,\n",
       "       0.44603732, 0.45609358, 0.43935266, 0.44066563, 0.42588335,\n",
       "       0.42588335, 0.5510006 , 0.52094805, 0.44603732, 0.42588335,\n",
       "       0.42588335, 0.43935266, 0.42588335, 0.42588335, 0.56230706,\n",
       "       0.5809824 , 0.45490682, 0.56824934, 0.44066563, 0.5       ,\n",
       "       0.42588335, 0.43935266, 0.42588335, 0.45609358, 0.5809824 ,\n",
       "       0.56230706, 0.44066563, 0.42588335, 0.42588335, 0.46160665,\n",
       "       0.42588335, 0.43935266, 0.42588335, 0.5063673 , 0.5809824 ,\n",
       "       0.42588335, 0.5809824 , 0.45490682, 0.42588335, 0.42588335,\n",
       "       0.5809824 , 0.44603732, 0.43935266, 0.52877843, 0.42588335,\n",
       "       0.44456193, 0.42588335, 0.43935266, 0.46160665, 0.43935266,\n",
       "       0.42588335, 0.42588335, 0.43613485, 0.5809824 , 0.42588335,\n",
       "       0.5168644 , 0.42588335, 0.45609358, 0.42588335, 0.5809824 ,\n",
       "       0.5809824 , 0.42588335, 0.43613485, 0.43613485, 0.46762788,\n",
       "       0.46420574, 0.5809824 , 0.42588335, 0.42588335, 0.5       ,\n",
       "       0.43613485, 0.5809824 , 0.5809824 , 0.42588335, 0.5809824 ,\n",
       "       0.44124418, 0.43935266, 0.44124418, 0.5809824 , 0.43935266,\n",
       "       0.42588335, 0.5809824 , 0.4808205 , 0.42588335, 0.5809824 ,\n",
       "       0.5809824 , 0.5168644 , 0.42588335, 0.43185383, 0.43798986,\n",
       "       0.42588335, 0.42588335, 0.5168644 , 0.5168644 , 0.42588335,\n",
       "       0.5809824 , 0.42588335, 0.42588335, 0.42588335, 0.43798986,\n",
       "       0.47461712, 0.5809824 , 0.56824934, 0.42588335, 0.42588335,\n",
       "       0.5809824 , 0.42588335, 0.5809824 , 0.42588335, 0.42588335,\n",
       "       0.5809824 , 0.42588335, 0.5809824 , 0.5003421 , 0.44603732,\n",
       "       0.43935266, 0.42588335, 0.47461712, 0.56230706, 0.5168644 ,\n",
       "       0.56230706, 0.5809824 , 0.5168644 , 0.42588335, 0.5809824 ,\n",
       "       0.42588335, 0.42588335, 0.52094805], dtype=float32)"
      ]
     },
     "execution_count": 54,
     "metadata": {},
     "output_type": "execute_result"
    }
   ],
   "source": [
    "prediction = model.predict(xgb.DMatrix(test), ntree_limit=model.best_ntree_limit)\n",
    "prediction"
   ]
  },
  {
   "cell_type": "code",
   "execution_count": 55,
   "metadata": {},
   "outputs": [
    {
     "data": {
      "text/plain": [
       "array([0, 0, 0, 0, 1, 0, 0, 0, 1, 0, 0, 0, 1, 0, 1, 1, 0, 0, 1, 0, 0, 1,\n",
       "       1, 0, 1, 0, 1, 0, 0, 1, 0, 0, 1, 0, 0, 0, 1, 1, 0, 0, 0, 1, 0, 1,\n",
       "       1, 0, 0, 0, 1, 0, 0, 0, 1, 1, 1, 0, 0, 0, 0, 1, 0, 0, 0, 1, 1, 1,\n",
       "       1, 0, 0, 1, 1, 0, 1, 0, 1, 0, 0, 1, 0, 1, 1, 0, 0, 0, 0, 0, 1, 1,\n",
       "       1, 1, 1, 0, 1, 0, 1, 0, 1, 0, 1, 0, 1, 0, 0, 0, 1, 0, 0, 0, 0, 0,\n",
       "       0, 1, 1, 1, 1, 0, 0, 1, 0, 1, 1, 0, 1, 0, 0, 1, 0, 1, 0, 0, 0, 0,\n",
       "       0, 0, 0, 0, 0, 0, 1, 0, 0, 1, 0, 0, 1, 0, 0, 0, 1, 0, 1, 0, 0, 0,\n",
       "       0, 0, 1, 1, 1, 1, 1, 1, 1, 0, 0, 0, 0, 0, 1, 1, 0, 0, 0, 0, 0, 1,\n",
       "       1, 0, 1, 1, 0, 0, 1, 0, 1, 0, 1, 0, 0, 0, 0, 0, 1, 0, 1, 0, 1, 1,\n",
       "       0, 1, 1, 1, 0, 1, 0, 0, 0, 0, 1, 0, 0, 0, 0, 1, 0, 0, 1, 0, 1, 0,\n",
       "       1, 0, 1, 0, 1, 1, 0, 1, 0, 0, 0, 1, 0, 0, 0, 0, 0, 0, 1, 1, 1, 1,\n",
       "       0, 0, 0, 0, 1, 0, 1, 1, 1, 0, 0, 0, 0, 0, 0, 0, 1, 0, 0, 0, 1, 1,\n",
       "       0, 0, 0, 0, 1, 0, 0, 0, 1, 1, 0, 1, 0, 0, 0, 0, 1, 1, 1, 1, 0, 0,\n",
       "       0, 0, 0, 0, 0, 0, 0, 0, 0, 0, 1, 1, 0, 0, 0, 0, 0, 0, 1, 1, 0, 1,\n",
       "       0, 1, 0, 0, 0, 0, 1, 1, 0, 0, 0, 0, 0, 0, 0, 1, 1, 0, 1, 0, 0, 0,\n",
       "       1, 0, 0, 1, 0, 0, 0, 0, 0, 0, 0, 0, 0, 1, 0, 1, 0, 0, 0, 1, 1, 0,\n",
       "       0, 0, 0, 0, 1, 0, 0, 1, 0, 1, 1, 0, 1, 0, 0, 0, 1, 0, 0, 1, 0, 0,\n",
       "       1, 1, 1, 0, 0, 0, 0, 0, 1, 1, 0, 1, 0, 0, 0, 0, 0, 1, 1, 0, 0, 1,\n",
       "       0, 1, 0, 0, 1, 0, 1, 1, 0, 0, 0, 0, 1, 1, 1, 1, 1, 0, 1, 0, 0, 1])"
      ]
     },
     "execution_count": 55,
     "metadata": {},
     "output_type": "execute_result"
    }
   ],
   "source": [
    "prediction = np.where(prediction < 0.5, 0, 1)\n",
    "prediction"
   ]
  },
  {
   "cell_type": "code",
   "execution_count": 56,
   "metadata": {},
   "outputs": [],
   "source": [
    "submisson = pd.DataFrame({\n",
    "    'PassengerId': ID,\n",
    "    'Survived': prediction\n",
    "})\n",
    "submisson.to_csv('submisson.csv', index=False)"
   ]
  },
  {
   "cell_type": "code",
   "execution_count": null,
   "metadata": {},
   "outputs": [],
   "source": []
  }
 ],
 "metadata": {
  "kernelspec": {
   "display_name": "Python 3",
   "language": "python",
   "name": "python3"
  },
  "language_info": {
   "codemirror_mode": {
    "name": "ipython",
    "version": 3
   },
   "file_extension": ".py",
   "mimetype": "text/x-python",
   "name": "python",
   "nbconvert_exporter": "python",
   "pygments_lexer": "ipython3",
   "version": "3.6.4"
  }
 },
 "nbformat": 4,
 "nbformat_minor": 2
}
